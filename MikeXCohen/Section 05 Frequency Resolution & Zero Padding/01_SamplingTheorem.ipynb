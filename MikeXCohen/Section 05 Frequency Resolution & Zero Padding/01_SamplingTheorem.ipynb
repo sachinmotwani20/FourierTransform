{
  "nbformat": 4,
  "nbformat_minor": 0,
  "metadata": {
    "colab": {
      "name": "01_SamplingTheorem.ipynb",
      "provenance": [],
      "collapsed_sections": []
    },
    "kernelspec": {
      "name": "python3",
      "display_name": "Python 3"
    }
  },
  "cells": [
    {
      "cell_type": "markdown",
      "metadata": {
        "id": "W5xfAJMIumLa",
        "colab_type": "text"
      },
      "source": [
        "#Sampling Theorem"
      ]
    },
    {
      "cell_type": "code",
      "metadata": {
        "id": "kGXVcVClulXF",
        "colab_type": "code",
        "colab": {}
      },
      "source": [
        "import numpy as np\n",
        "import math\n",
        "import matplotlib.pyplot as plt\n",
        "import random\n",
        "import timeit\n",
        "import scipy.fftpack"
      ],
      "execution_count": 0,
      "outputs": []
    },
    {
      "cell_type": "code",
      "metadata": {
        "id": "4ukE-L4i4Jlz",
        "colab_type": "code",
        "colab": {
          "base_uri": "https://localhost:8080/",
          "height": 35
        },
        "outputId": "c1e064ad-42cd-47e4-edff-002175c34c16"
      },
      "source": [
        "# create the signal\n",
        "srate  = 1000\n",
        "pnts   = 1000\n",
        "signal = np.random.randn(pnts)\n",
        "\n",
        "\n",
        "# The loop of the Fourier transform (although we're not computing it)\n",
        "#for fi in range(0,pnts):\n",
        "    #csw = np.exp( -1i*2*np.pi*fi*fourTime )\n",
        "    #fCoefs[fi] = np.sum( np.multiply(signal,csw) ) / pnts\n",
        "\n",
        "\n",
        "# compute frequencies vector\n",
        "hz = np.linspace(0,srate/2,int(np.floor(pnts/2)+1))\n",
        "\n",
        "# compute frequency resolution\n",
        "freqres = np.mean(np.diff(hz))\n",
        "\n",
        "# print result in command window\n",
        "print('Frequency resolution is',freqres,'Hz')\n"
      ],
      "execution_count": 7,
      "outputs": [
        {
          "output_type": "stream",
          "text": [
            "Frequency resolution is 1.0 Hz\n"
          ],
          "name": "stdout"
        }
      ]
    },
    {
      "cell_type": "code",
      "metadata": {
        "id": "uv76iufEvXnb",
        "colab_type": "code",
        "colab": {
          "base_uri": "https://localhost:8080/",
          "height": 573
        },
        "outputId": "c5d2d2a5-1432-4fba-e55a-3f1846b9d93c"
      },
      "source": [
        "# parameters (try adjusting the srate!)\n",
        "srate  = 10\n",
        "time   = np.arange(0,2,1/srate)\n",
        "\n",
        "# create signal\n",
        "signal = np.zeros(len(time))\n",
        "signal[0:np.int(np.round(len(time)*.1))] = 1\n",
        "\n",
        "# spectrum and frequencies vector\n",
        "signalX = scipy.fftpack.fft(signal)\n",
        "hz = np.linspace(0,srate,len(time)) # plotting trick... frequencies really only go up to Nyquist\n",
        "\n",
        "# plot\n",
        "plt.plot(time,signal,'s-')\n",
        "plt.xlabel('Time (sec.)')\n",
        "plt.ylabel('Amplitude')\n",
        "plt.title('Time domain')\n",
        "plt.show()\n",
        "\n",
        "plt.plot(hz,2*abs(signalX),'s-')\n",
        "plt.xlabel('Frequency (Hz)')\n",
        "plt.ylabel('Amplitude')\n",
        "plt.title('Frequency domain')\n",
        "plt.show()"
      ],
      "execution_count": 8,
      "outputs": [
        {
          "output_type": "display_data",
          "data": {
            "image/png": "[encoded data removed]",
            "text/plain": [
              "<Figure size 432x288 with 1 Axes>"
            ]
          },
          "metadata": {
            "tags": [],
            "needs_background": "light"
          }
        },
        {
          "output_type": "display_data",
          "data": {
            "image/png": "[encoded data removed]",
            "text/plain": [
              "<Figure size 432x288 with 1 Axes>"
            ]
          },
          "metadata": {
            "tags": [],
            "needs_background": "light"
          }
        }
      ]
    },
    {
      "cell_type": "markdown",
      "metadata": {
        "id": "wKoaRm2KwzDw",
        "colab_type": "text"
      },
      "source": [
        "You may play around with the sampling rate to find out that it changes the frequency domain rapidly but the time domain remains untouched."
      ]
    },
    {
      "cell_type": "code",
      "metadata": {
        "id": "iLZqaWbgvtX3",
        "colab_type": "code",
        "colab": {}
      },
      "source": [
        ""
      ],
      "execution_count": 0,
      "outputs": []
    }
  ]
}