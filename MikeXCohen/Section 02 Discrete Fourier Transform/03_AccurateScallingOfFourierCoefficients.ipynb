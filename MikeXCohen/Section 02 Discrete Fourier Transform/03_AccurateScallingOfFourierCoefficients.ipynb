{
  "nbformat": 4,
  "nbformat_minor": 0,
  "metadata": {
    "colab": {
      "name": "03_AccurateScallingOfFourierCoefficients.ipynb",
      "provenance": [],
      "collapsed_sections": []
    },
    "kernelspec": {
      "name": "python3",
      "display_name": "Python 3"
    }
  },
  "cells": [
    {
      "cell_type": "markdown",
      "metadata": {
        "id": "Hl1VY9doAHaA",
        "colab_type": "text"
      },
      "source": [
        "Accurate Scalling of Fourier Coefficients"
      ]
    },
    {
      "cell_type": "code",
      "metadata": {
        "id": "JbF2Sxv_AZp5",
        "colab_type": "code",
        "colab": {}
      },
      "source": [
        "import numpy as np\n",
        "import matplotlib.pyplot as plt\n",
        "import math"
      ],
      "execution_count": 0,
      "outputs": []
    },
    {
      "cell_type": "code",
      "metadata": {
        "id": "M7YGJi5P_qH8",
        "colab_type": "code",
        "outputId": "6200386f-207c-40eb-f146-ce5040cd0c93",
        "colab": {
          "base_uri": "https://localhost:8080/",
          "height": 317
        }
      },
      "source": [
        "## incorrect amplitude units without normalizations\n",
        "\n",
        "# create the signal\n",
        "srate  = 1000 # hz\n",
        "time   = np.arange(0.,1.5,1/srate)  # time vector in seconds\n",
        "pnts   = len(time)   # number of time points\n",
        "signal = 2.5 * np.sin( 2*np.pi*4*time )\n",
        "\n",
        "\n",
        "# prepare the Fourier transform\n",
        "fourTime = np.array(range(0,pnts))/pnts\n",
        "fCoefs   = np.zeros(len(signal),dtype=complex)\n",
        "\n",
        "for fi in range(0,pnts):\n",
        "    # create complex sine wave and compute dot product with signal\n",
        "    csw = np.exp( -1j*2*np.pi*fi*fourTime )\n",
        "    fCoefs[fi] = np.sum( np.multiply(signal,csw) )\n",
        "\n",
        "\n",
        "# extract amplitudes\n",
        "ampls = np.abs(fCoefs);\n",
        "\n",
        "# compute frequencies vector\n",
        "hz = np.linspace(0,srate/2,num=math.floor(pnts/2.)+1)\n",
        "\n",
        "plt.stem(hz,ampls[range(0,len(hz))])\n",
        "plt.xlabel('Frequency (Hz)'), plt.ylabel('Amplitude (a.u.)')\n",
        "plt.xlim(0,10)\n",
        "plt.show()"
      ],
      "execution_count": 2,
      "outputs": [
        {
          "output_type": "stream",
          "text": [
            "/usr/local/lib/python3.6/dist-packages/ipykernel_launcher.py:23: UserWarning: In Matplotlib 3.3 individual lines on a stem plot will be added as a LineCollection instead of individual lines. This significantly improves the performance of a stem plot. To remove this warning and switch to the new behaviour, set the \"use_line_collection\" keyword argument to True.\n"
          ],
          "name": "stderr"
        },
        {
          "output_type": "display_data",
          "data": {
            "image/png": "[encoded data removed]",
            "text/plain": [
              "<Figure size 432x288 with 1 Axes>"
            ]
          },
          "metadata": {
            "tags": [],
            "needs_background": "light"
          }
        }
      ]
    },
    {
      "cell_type": "markdown",
      "metadata": {
        "id": "8OwQzVrBAy_3",
        "colab_type": "text"
      },
      "source": [
        "Notice that even though the frequency is correctly shown (4Hz) viz what we specified. The Amplitude is not at all correct. (1900 instead of 2.5 (as we specified))"
      ]
    },
    {
      "cell_type": "markdown",
      "metadata": {
        "id": "e_7Yc1PWEZ0k",
        "colab_type": "text"
      },
      "source": [
        "Appliying 1st Normalization: Division\n",
        "\n",
        "#Reason: \n",
        "Dot product is more or less all additions & multiplications. By dividing no of points, we are actually averaging the Dot Product."
      ]
    },
    {
      "cell_type": "code",
      "metadata": {
        "id": "76eC9KjfAXzc",
        "colab_type": "code",
        "outputId": "f43acb45-987e-4e79-a140-5f6e4fd05d4d",
        "colab": {
          "base_uri": "https://localhost:8080/",
          "height": 317
        }
      },
      "source": [
        "# create the signal\n",
        "srate  = 1000 # hz\n",
        "time   = np.arange(0.,1.5,1/srate)  # time vector in seconds\n",
        "pnts   = len(time)   # number of time points\n",
        "signal = 2.5 * np.sin( 2*np.pi*4*time )\n",
        "\n",
        "\n",
        "# prepare the Fourier transform\n",
        "fourTime = np.array(range(0,pnts))/pnts\n",
        "fCoefs   = np.zeros(len(signal),dtype=complex)\n",
        "\n",
        "for fi in range(0,pnts):\n",
        "    # create complex sine wave and compute dot product with signal\n",
        "    csw = np.exp( -1j*2*np.pi*fi*fourTime )\n",
        "    fCoefs[fi] = np.sum( np.multiply(signal,csw) )\n",
        "\n",
        "fCoefs = fCoefs/pnts    #Normalization by Division\n",
        "\n",
        "# extract amplitudes\n",
        "ampls = np.abs(fCoefs);\n",
        "\n",
        "# compute frequencies vector\n",
        "hz = np.linspace(0,srate/2,num=math.floor(pnts/2.)+1)\n",
        "\n",
        "plt.stem(hz,ampls[range(0,len(hz))])\n",
        "plt.xlabel('Frequency (Hz)'), plt.ylabel('Amplitude (a.u.)')\n",
        "plt.xlim(0,10)\n",
        "plt.show()"
      ],
      "execution_count": 3,
      "outputs": [
        {
          "output_type": "stream",
          "text": [
            "/usr/local/lib/python3.6/dist-packages/ipykernel_launcher.py:24: UserWarning: In Matplotlib 3.3 individual lines on a stem plot will be added as a LineCollection instead of individual lines. This significantly improves the performance of a stem plot. To remove this warning and switch to the new behaviour, set the \"use_line_collection\" keyword argument to True.\n"
          ],
          "name": "stderr"
        },
        {
          "output_type": "display_data",
          "data": {
            "image/png": "[encoded data removed]",
            "text/plain": [
              "<Figure size 432x288 with 1 Axes>"
            ]
          },
          "metadata": {
            "tags": [],
            "needs_background": "light"
          }
        }
      ]
    },
    {
      "cell_type": "markdown",
      "metadata": {
        "id": "7HN-HM-kFIyS",
        "colab_type": "text"
      },
      "source": [
        "Even though this isn't the correct value, it is way nearer than without any normalizaiton."
      ]
    },
    {
      "cell_type": "markdown",
      "metadata": {
        "id": "mKOTOFZ6FVMx",
        "colab_type": "text"
      },
      "source": [
        "Observe Closely, it is actually 1.25 viz half of the actual value of amplitude (2.5).  What has happened here is that energy (hence amplitude) has got a split of half into positive & negative frequecny values. \n",
        "\n",
        "Hence, applying 2nd normalization: Doubling"
      ]
    },
    {
      "cell_type": "code",
      "metadata": {
        "id": "aJhoDMI9FFQR",
        "colab_type": "code",
        "colab": {
          "base_uri": "https://localhost:8080/",
          "height": 317
        },
        "outputId": "6e28817b-5bee-4693-cef7-3a7b056c1d46"
      },
      "source": [
        "# create the signal\n",
        "srate  = 1000 # hz\n",
        "time   = np.arange(0.,1.5,1/srate)  # time vector in seconds\n",
        "pnts   = len(time)   # number of time points\n",
        "signal = 2.5 * np.sin( 2*np.pi*4*time )\n",
        "\n",
        "\n",
        "# prepare the Fourier transform\n",
        "fourTime = np.array(range(0,pnts))/pnts\n",
        "fCoefs   = np.zeros(len(signal),dtype=complex)\n",
        "\n",
        "for fi in range(0,pnts):\n",
        "    # create complex sine wave and compute dot product with signal\n",
        "    csw = np.exp( -1j*2*np.pi*fi*fourTime )\n",
        "    fCoefs[fi] = np.sum( np.multiply(signal,csw) )\n",
        "\n",
        "fCoefs = 2*fCoefs/pnts    #Normalization by Division\n",
        "\n",
        "# extract amplitudes\n",
        "ampls = np.abs(fCoefs);\n",
        "\n",
        "# compute frequencies vector\n",
        "hz = np.linspace(0,srate/2,num=math.floor(pnts/2.)+1)\n",
        "\n",
        "plt.stem(hz,ampls[range(0,len(hz))])\n",
        "plt.xlabel('Frequency (Hz)'), plt.ylabel('Amplitude (a.u.)')\n",
        "plt.xlim(0,10)\n",
        "plt.show()"
      ],
      "execution_count": 4,
      "outputs": [
        {
          "output_type": "stream",
          "text": [
            "/usr/local/lib/python3.6/dist-packages/ipykernel_launcher.py:24: UserWarning: In Matplotlib 3.3 individual lines on a stem plot will be added as a LineCollection instead of individual lines. This significantly improves the performance of a stem plot. To remove this warning and switch to the new behaviour, set the \"use_line_collection\" keyword argument to True.\n"
          ],
          "name": "stderr"
        },
        {
          "output_type": "display_data",
          "data": {
            "image/png": "[encoded data removed]",
            "text/plain": [
              "<Figure size 432x288 with 1 Axes>"
            ]
          },
          "metadata": {
            "tags": [],
            "needs_background": "light"
          }
        }
      ]
    },
    {
      "cell_type": "markdown",
      "metadata": {
        "id": "Xix99cJCUVEZ",
        "colab_type": "text"
      },
      "source": [
        "Now we have got the desired result.\n",
        "\n",
        "Though is isn't accurate as we have multiplied the amplitudes of Positive Frequencies twice instead of actually adding the negative frequency amplitudes.This is alright until we value any value at zero (DC) as it will be doubled too."
      ]
    }
  ]
}