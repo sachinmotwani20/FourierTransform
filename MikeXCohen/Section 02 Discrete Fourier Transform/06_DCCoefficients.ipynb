{
  "nbformat": 4,
  "nbformat_minor": 0,
  "metadata": {
    "colab": {
      "name": "06_DCCoefficients.ipynb",
      "provenance": [],
      "collapsed_sections": []
    },
    "kernelspec": {
      "name": "python3",
      "display_name": "Python 3"
    }
  },
  "cells": [
    {
      "cell_type": "markdown",
      "metadata": {
        "id": "XHlRFraW611q",
        "colab_type": "text"
      },
      "source": [
        "#The Zero (DC) Component "
      ]
    },
    {
      "cell_type": "code",
      "metadata": {
        "id": "j1-4l-y268gL",
        "colab_type": "code",
        "colab": {}
      },
      "source": [
        "import numpy as np\n",
        "import matplotlib.pyplot as plt\n",
        "import math"
      ],
      "execution_count": 0,
      "outputs": []
    },
    {
      "cell_type": "code",
      "metadata": {
        "id": "WT0JP0cT5fDi",
        "colab_type": "code",
        "colab": {
          "base_uri": "https://localhost:8080/",
          "height": 317
        },
        "outputId": "aba294f6-62a2-43ce-a92c-a730f6b5d460"
      },
      "source": [
        " ## incorrect DC reconstruction without careful normalization\n",
        "\n",
        "# create the signal\n",
        "srate  = 1000 # hz\n",
        "time   = np.arange(0.,2.,1/srate) # time vector in seconds\n",
        "pnts   = len(time) # number of time points\n",
        "signal =  1.5 + 2.5*np.sin( 2*np.pi*4*time )\n",
        "\n",
        "\n",
        "# prepare the Fourier transform\n",
        "fourTime = np.array(range(0,pnts))/pnts\n",
        "fCoefs   = np.zeros(len(signal),dtype=complex)\n",
        "\n",
        "for fi in range(0,pnts):\n",
        "    # create complex sine wave and compute dot product with signal\n",
        "    csw = np.exp( -1j*2*np.pi*fi*fourTime )\n",
        "    fCoefs[fi] = np.sum( np.multiply(signal,csw) )\n",
        "\n",
        "\n",
        "# extract amplitudes\n",
        "ampls = 2*np.abs(fCoefs/pnts); #Error\n",
        "#Doubling the Zero Commonent too. There is nothing like -0 or +0. It doesn't gets splitted.\n",
        "\n",
        "# compute frequencies vector\n",
        "hz = np.linspace(0,srate/2,num=math.floor(pnts/2.)+1)\n",
        "\n",
        "plt.stem(hz,ampls[0:len(hz)])\n",
        "plt.xlim(-.1,10)\n",
        "plt.xlabel('Frequency (Hz)'), plt.ylabel('Amplitude (a.u.)')\n",
        "plt.show()\n"
      ],
      "execution_count": 4,
      "outputs": [
        {
          "output_type": "stream",
          "text": [
            "/usr/local/lib/python3.6/dist-packages/ipykernel_launcher.py:23: UserWarning: In Matplotlib 3.3 individual lines on a stem plot will be added as a LineCollection instead of individual lines. This significantly improves the performance of a stem plot. To remove this warning and switch to the new behaviour, set the \"use_line_collection\" keyword argument to True.\n"
          ],
          "name": "stderr"
        },
        {
          "output_type": "display_data",
          "data": {
            "image/png": "[encoded data removed]",
            "text/plain": [
              "<Figure size 432x288 with 1 Axes>"
            ]
          },
          "metadata": {
            "tags": [],
            "needs_background": "light"
          }
        }
      ]
    },
    {
      "cell_type": "markdown",
      "metadata": {
        "id": "nAF4zWei7Pwa",
        "colab_type": "text"
      },
      "source": [
        "Incorrect DC value due to lack of normalization. It is 3, which we specified 1.5."
      ]
    },
    {
      "cell_type": "markdown",
      "metadata": {
        "id": "_mV8mZPI7jg2",
        "colab_type": "text"
      },
      "source": [
        "#Applying Normalization"
      ]
    },
    {
      "cell_type": "code",
      "metadata": {
        "id": "JSKGz4te7CbR",
        "colab_type": "code",
        "colab": {
          "base_uri": "https://localhost:8080/",
          "height": 317
        },
        "outputId": "6bc4af8c-2a8f-41b3-b30d-8e8f21e285da"
      },
      "source": [
        "# create the signal\n",
        "srate  = 1000 # hz\n",
        "time   = np.arange(0.,2.,1/srate) # time vector in seconds\n",
        "pnts   = len(time) # number of time points\n",
        "signal =  1.5 + 2.5*np.sin( 2*np.pi*4*time )\n",
        "\n",
        "\n",
        "# prepare the Fourier transform\n",
        "fourTime = np.array(range(0,pnts))/pnts\n",
        "fCoefs   = np.zeros(len(signal),dtype=complex)\n",
        "\n",
        "for fi in range(0,pnts):\n",
        "    # create complex sine wave and compute dot product with signal\n",
        "    csw = np.exp( -1j*2*np.pi*fi*fourTime )\n",
        "    fCoefs[fi] = np.sum( np.multiply(signal,csw) )\n",
        "\n",
        "\n",
        "# extract amplitudes (Correct Way)\n",
        "ampls = np.abs(fCoefs/pnts)\n",
        "ampls[2:len(hz)] = 2*ampls[2: len(hz)] #doubled the Positive frequencies only.\n",
        "\n",
        "# compute frequencies vector\n",
        "hz = np.linspace(0,srate/2,num=math.floor(pnts/2.)+1)\n",
        "\n",
        "plt.stem(hz,ampls[0:len(hz)])\n",
        "plt.xlim(-.1,10)\n",
        "plt.xlabel('Frequency (Hz)'), plt.ylabel('Amplitude (a.u.)')\n",
        "plt.show()"
      ],
      "execution_count": 5,
      "outputs": [
        {
          "output_type": "stream",
          "text": [
            "/usr/local/lib/python3.6/dist-packages/ipykernel_launcher.py:24: UserWarning: In Matplotlib 3.3 individual lines on a stem plot will be added as a LineCollection instead of individual lines. This significantly improves the performance of a stem plot. To remove this warning and switch to the new behaviour, set the \"use_line_collection\" keyword argument to True.\n"
          ],
          "name": "stderr"
        },
        {
          "output_type": "display_data",
          "data": {
            "image/png": "[encoded data removed]",
            "text/plain": [
              "<Figure size 432x288 with 1 Axes>"
            ]
          },
          "metadata": {
            "tags": [],
            "needs_background": "light"
          }
        }
      ]
    },
    {
      "cell_type": "markdown",
      "metadata": {
        "id": "8QPWdwLV84fO",
        "colab_type": "text"
      },
      "source": [
        "Expected Output."
      ]
    }
  ]
}