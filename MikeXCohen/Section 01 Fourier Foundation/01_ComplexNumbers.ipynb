{
  "nbformat": 4,
  "nbformat_minor": 0,
  "metadata": {
    "colab": {
      "name": "ComplexNumbers.ipynb",
      "provenance": [],
      "collapsed_sections": []
    },
    "kernelspec": {
      "name": "python3",
      "display_name": "Python 3"
    }
  },
  "cells": [
    {
      "cell_type": "code",
      "metadata": {
        "id": "N3xCOW8Tx0mn",
        "colab_type": "code",
        "colab": {}
      },
      "source": [
        "import numpy as np\n",
        "import math\n",
        "import matplotlib.pyplot as plt"
      ],
      "execution_count": 0,
      "outputs": []
    },
    {
      "cell_type": "markdown",
      "metadata": {
        "id": "fSE9XcDpz4z2",
        "colab_type": "text"
      },
      "source": [
        "Writing Complex Numbers"
      ]
    },
    {
      "cell_type": "code",
      "metadata": {
        "id": "pBzQCqpGzRaq",
        "colab_type": "code",
        "outputId": "50a71a11-2662-4372-bffa-c2d59bd4c174",
        "colab": {
          "base_uri": "https://localhost:8080/",
          "height": 35
        }
      },
      "source": [
        "#Method 1: real + imaginary \n",
        "z = 4 + 1j*3\n",
        "print(z)"
      ],
      "execution_count": 2,
      "outputs": [
        {
          "output_type": "stream",
          "text": [
            "(4+3j)\n"
          ],
          "name": "stdout"
        }
      ]
    },
    {
      "cell_type": "code",
      "metadata": {
        "id": "goK_r9pfzk0e",
        "colab_type": "code",
        "outputId": "7787cde9-6e5c-4563-97c3-94dd8ba420e5",
        "colab": {
          "base_uri": "https://localhost:8080/",
          "height": 54
        }
      },
      "source": [
        "#Method 2: Using Function 'Complex'\n",
        "z1 = complex(4,3) \n",
        "print (z1)\n",
        "z2 = complex('4+3j')\n",
        "print (z2)"
      ],
      "execution_count": 3,
      "outputs": [
        {
          "output_type": "stream",
          "text": [
            "(4+3j)\n",
            "(4+3j)\n"
          ],
          "name": "stdout"
        }
      ]
    },
    {
      "cell_type": "markdown",
      "metadata": {
        "id": "_-p4XihZ1ZAb",
        "colab_type": "text"
      },
      "source": [
        "Plot Complex numbers on the Complex Plane"
      ]
    },
    {
      "cell_type": "code",
      "metadata": {
        "id": "8X0BHhTZ1WjM",
        "colab_type": "code",
        "outputId": "a5c5f93c-f475-46ab-b0f4-bc718dcb06d4",
        "colab": {
          "base_uri": "https://localhost:8080/",
          "height": 279
        }
      },
      "source": [
        "plt.plot(np.real(z), np.imag (z), 'ro' ) #ro indicates r=red & o=Stumbol to be used as a plot\n",
        "\n",
        "#formating the graph for better view\n",
        "plt.axis ('square')\n",
        "plt.axis([-5,5,-5,5])\n",
        "plt.grid (True)\n",
        "plt.xlabel('Real Axis')\n",
        "plt.ylabel ('Imaginary Axis')\n",
        "plt.show()"
      ],
      "execution_count": 4,
      "outputs": [
        {
          "output_type": "display_data",
          "data": {
            "image/png": "[encoded data removed]",
            "text/plain": [
              "<Figure size 432x288 with 1 Axes>"
            ]
          },
          "metadata": {
            "tags": []
          }
        }
      ]
    },
    {
      "cell_type": "markdown",
      "metadata": {
        "id": "zkzmatzf2zQw",
        "colab_type": "text"
      },
      "source": [
        "Compute the magnitude of the Complex Number"
      ]
    },
    {
      "cell_type": "code",
      "metadata": {
        "id": "Nx6ErlZy2KNQ",
        "colab_type": "code",
        "outputId": "b5cb525c-fde6-4fb1-cf2c-5ccacfee716d",
        "colab": {
          "base_uri": "https://localhost:8080/",
          "height": 54
        }
      },
      "source": [
        "#Method 1: Pythagoras Theorem\n",
        "mag = math.sqrt(np.real(z)**2 + np.imag(z)**2)\n",
        "print('The Magnitude is ', mag)\n",
        "#Method 2: Using Numpy Function(abs)\n",
        "mag1 = np.abs(z)\n",
        "print ('The magnitude is ', mag1)"
      ],
      "execution_count": 5,
      "outputs": [
        {
          "output_type": "stream",
          "text": [
            "The Magnitude is  5.0\n",
            "The magnitude is  5.0\n"
          ],
          "name": "stdout"
        }
      ]
    },
    {
      "cell_type": "markdown",
      "metadata": {
        "id": "m295pX-Y491z",
        "colab_type": "text"
      },
      "source": [
        "Compute the Angle of the Complex Number "
      ]
    },
    {
      "cell_type": "code",
      "metadata": {
        "id": "eoAuuVKa3hsa",
        "colab_type": "code",
        "outputId": "87734f00-bfd0-4667-d741-c92e4a821bf3",
        "colab": {
          "base_uri": "https://localhost:8080/",
          "height": 54
        }
      },
      "source": [
        "#Method 1: Pythagoras Theorem\n",
        "phas = math.atan(np.imag(z)/ np.real(z)) \n",
        "print('The Angle is ', phas)\n",
        "#Using numpy function\n",
        "phas1 = np.angle(z)\n",
        "print('The Angle is ', phas1)\n"
      ],
      "execution_count": 6,
      "outputs": [
        {
          "output_type": "stream",
          "text": [
            "The Angle is  0.6435011087932844\n",
            "The Angle is  0.6435011087932844\n"
          ],
          "name": "stdout"
        }
      ]
    },
    {
      "cell_type": "code",
      "metadata": {
        "id": "KfylkT5w9jg4",
        "colab_type": "code",
        "colab": {}
      },
      "source": [
        ""
      ],
      "execution_count": 0,
      "outputs": []
    }
  ]
}