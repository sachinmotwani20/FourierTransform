{
  "nbformat": 4,
  "nbformat_minor": 0,
  "metadata": {
    "colab": {
      "name": "01_IntroFFT.ipynb",
      "provenance": [],
      "collapsed_sections": []
    },
    "kernelspec": {
      "name": "python3",
      "display_name": "Python 3"
    }
  },
  "cells": [
    {
      "cell_type": "markdown",
      "metadata": {
        "id": "hW7AsPVMXe-Q",
        "colab_type": "text"
      },
      "source": [
        "#Fast Fourier Transform"
      ]
    },
    {
      "cell_type": "code",
      "metadata": {
        "id": "JjY6THGaSvmq",
        "colab_type": "code",
        "colab": {}
      },
      "source": [
        "import numpy as np\n",
        "import matplotlib.pyplot as plt\n",
        "import math\n",
        "import random \n",
        "import timeit\n",
        "import scipy.fftpack"
      ],
      "execution_count": 0,
      "outputs": []
    },
    {
      "cell_type": "markdown",
      "metadata": {
        "id": "7mDuTg15YQL5",
        "colab_type": "text"
      },
      "source": [
        "#Speed Test\n",
        "Difference in Calculation Delay of Fast & Conventional Fourier *Transform*"
      ]
    },
    {
      "cell_type": "code",
      "metadata": {
        "id": "OtnMxdyGX8k_",
        "colab_type": "code",
        "colab": {
          "base_uri": "https://localhost:8080/",
          "height": 281
        },
        "outputId": "fc25a0da-cdc4-415b-afcd-318e5f3fe92b"
      },
      "source": [
        "# create the signal\n",
        "pnts   = 1000\n",
        "signal = np.random.randn(pnts)\n",
        "\n",
        "\n",
        "# start the timer for \"slow\" Fourier transform\n",
        "tic = timeit.default_timer()\n",
        "\n",
        "# prepare the Fourier transform\n",
        "fourTime = np.array(range(0,pnts))/pnts\n",
        "fCoefs   = np.zeros(len(signal),dtype=complex)\n",
        "\n",
        "for fi in range(0,pnts):\n",
        "    csw = np.exp( -1j*2*np.pi*fi*fourTime )\n",
        "    fCoefs[fi] = np.sum( np.multiply(signal,csw) )\n",
        "\n",
        "\n",
        "# end timer for slow Fourier transform\n",
        "toc = timeit.default_timer()\n",
        "t1 = toc-tic\n",
        "\n",
        "\n",
        "# time the fast Fourier transform\n",
        "tic = timeit.default_timer()\n",
        "fCoefsF = scipy.fftpack.fft(signal)\n",
        "toc = timeit.default_timer()\n",
        "t2 = toc-tic\n",
        "\n",
        "# and plot\n",
        "plt.bar([1,2],[t1,t2])\n",
        "plt.title('Computation times')\n",
        "plt.ylabel('Time (sec.)')\n",
        "plt.xticks([1,2], ['loop','FFT'])\n",
        "plt.show()\n"
      ],
      "execution_count": 2,
      "outputs": [
        {
          "output_type": "display_data",
          "data": {
            "image/png": "[encoded data removed]",
            "text/plain": [
              "<Figure size 432x288 with 1 Axes>"
            ]
          },
          "metadata": {
            "tags": [],
            "needs_background": "light"
          }
        }
      ]
    },
    {
      "cell_type": "markdown",
      "metadata": {
        "id": "Z3WlXTQ0bTPx",
        "colab_type": "text"
      },
      "source": [
        "Without Normalization"
      ]
    },
    {
      "cell_type": "code",
      "metadata": {
        "id": "zAJ_mdVsYFbR",
        "colab_type": "code",
        "colab": {
          "base_uri": "https://localhost:8080/",
          "height": 336
        },
        "outputId": "ca427670-28a9-4a91-b416-047396223f03"
      },
      "source": [
        "## fft still need normalizations\n",
        "\n",
        "srate = 1000\n",
        "time  = np.arange(0,2,1/srate)\n",
        "npnts = len(time)\n",
        "\n",
        "# signal\n",
        "signal = 2*np.sin(2*np.pi*6*time)\n",
        "\n",
        "# Fourier spectrum\n",
        "signalX = scipy.fftpack.fft(signal)\n",
        "hz = np.linspace(0,srate,npnts)\n",
        "\n",
        "# amplitude\n",
        "ampl = np.abs(signalX[0:len(hz)])\n",
        "\n",
        "plt.stem(hz,ampl)\n",
        "plt.xlim(0,10)\n",
        "plt.xlabel('Frequency (Hz)')\n",
        "plt.ylabel('Amplitude (a.u.)')\n",
        "plt.show()"
      ],
      "execution_count": 3,
      "outputs": [
        {
          "output_type": "stream",
          "text": [
            "/usr/local/lib/python3.6/dist-packages/ipykernel_launcher.py:16: UserWarning: In Matplotlib 3.3 individual lines on a stem plot will be added as a LineCollection instead of individual lines. This significantly improves the performance of a stem plot. To remove this warning and switch to the new behaviour, set the \"use_line_collection\" keyword argument to True.\n",
            "  app.launch_new_instance()\n"
          ],
          "name": "stderr"
        },
        {
          "output_type": "display_data",
          "data": {
            "image/png": "[encoded data removed]",
            "text/plain": [
              "<Figure size 432x288 with 1 Axes>"
            ]
          },
          "metadata": {
            "tags": [],
            "needs_background": "light"
          }
        }
      ]
    },
    {
      "cell_type": "markdown",
      "metadata": {
        "id": "mpa6T3F6bXC6",
        "colab_type": "text"
      },
      "source": [
        "Error"
      ]
    },
    {
      "cell_type": "markdown",
      "metadata": {
        "id": "8P1VpfCQbYoB",
        "colab_type": "text"
      },
      "source": [
        "With Normalizations"
      ]
    },
    {
      "cell_type": "code",
      "metadata": {
        "id": "i6uloZBNa8Ia",
        "colab_type": "code",
        "colab": {
          "base_uri": "https://localhost:8080/",
          "height": 317
        },
        "outputId": "fc544ab5-b17c-417b-cc14-ad00709b7299"
      },
      "source": [
        "srate = 1000\n",
        "time  = np.arange(0,2,1/srate)\n",
        "npnts = len(time)\n",
        "\n",
        "# signal\n",
        "signal = 2*np.sin(2*np.pi*6*time)\n",
        "\n",
        "# Fourier spectrum\n",
        "signalX = scipy.fftpack.fft(signal)/npnts #Normalization 1: Divide by number of Points\n",
        "hz = np.linspace(0,srate,npnts)\n",
        "\n",
        "\n",
        "# amplitude\n",
        "ampl = 2*np.abs(signalX[0:len(hz)]) #Normalization 2: Doubling\n",
        "#Used Shortcut by direct multiplication as DC component is zero\n",
        "\n",
        "plt.stem(hz,ampl)\n",
        "plt.xlim(0,10)\n",
        "plt.xlabel('Frequency (Hz)')\n",
        "plt.ylabel('Amplitude (a.u.)')\n",
        "plt.show()"
      ],
      "execution_count": 4,
      "outputs": [
        {
          "output_type": "stream",
          "text": [
            "/usr/local/lib/python3.6/dist-packages/ipykernel_launcher.py:17: UserWarning: In Matplotlib 3.3 individual lines on a stem plot will be added as a LineCollection instead of individual lines. This significantly improves the performance of a stem plot. To remove this warning and switch to the new behaviour, set the \"use_line_collection\" keyword argument to True.\n"
          ],
          "name": "stderr"
        },
        {
          "output_type": "display_data",
          "data": {
            "image/png": "[encoded data removed]",
            "text/plain": [
              "<Figure size 432x288 with 1 Axes>"
            ]
          },
          "metadata": {
            "tags": [],
            "needs_background": "light"
          }
        }
      ]
    }
  ]
}